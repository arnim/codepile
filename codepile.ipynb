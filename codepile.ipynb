{
 "cells": [
  {
   "cell_type": "markdown",
   "metadata": {},
   "source": [
    "## What are [Jupyter Notebooks](https://jupyter.org/)?\n",
    "\n",
    "The central part of Jupyter notebooks are cells. There are two important types of cells:\n",
    "\n",
    "+ Markdown cells with formatted text using [Markdown](https://github.com/adam-p/markdown-here/wiki/Markdown-Cheatsheet), such as this cell.\n",
    "+ Code cells for program code to be executed in the [kernel](https://jupyter.readthedocs.io/en/latest/projects/kernels.html).\n",
    "\n",
    "\n",
    "To write and run your code in a cell enter in the empty field below\n",
    "\n",
    "```R\n",
    "my_string <- \"Hello Jupyter\"\n",
    "print(my_string)\n",
    "```"
   ]
  },
  {
   "cell_type": "code",
   "execution_count": null,
   "metadata": {},
   "outputs": [],
   "source": []
  },
  {
   "cell_type": "markdown",
   "metadata": {},
   "source": [
    "To executed make sure that your cursor is in the cell and press `Shift-Enter`.\n",
    "\n",
    "For a further introduction to Jupyter we refer the user to the documentation on [Jupyter Notebooks](https://jupyter-notebook.readthedocs.io/en/stable/notebook.html)  the [JupyterLab Interface](https://jupyterlab.readthedocs.io/en/latest/user/interface.html)."
   ]
  },
  {
   "cell_type": "markdown",
   "metadata": {},
   "source": [
    "**Copy of** https://www.codepile.net/pile/1WLoQQ65 by [Ranjit K. Singh](https://www.gesis.org/institut/mitarbeiterverzeichnis/person/Ranjit.Singh)"
   ]
  },
  {
   "cell_type": "code",
   "execution_count": null,
   "metadata": {},
   "outputs": [],
   "source": [
    "library(patchwork)\n",
    "library(tidyverse)"
   ]
  },
  {
   "cell_type": "markdown",
   "metadata": {},
   "source": [
    "Creating the normal distribution curve"
   ]
  },
  {
   "cell_type": "code",
   "execution_count": null,
   "metadata": {},
   "outputs": [],
   "source": [
    "normal_dist_curve_tab <- tibble(\n",
    "  z = seq(-3.5,3.5,0.01),\n",
    "  norm_curve = dnorm(z),\n",
    "  cumulative_F = pnorm(z)\n",
    ")\n",
    "\n",
    "\n",
    "# Creating sine wave values from -1 to 1\n",
    "# This creates the easing effect; faster animation in the middle, slow down at the edges\n",
    "# Each value is thus one frame\n",
    "\n",
    "sin_tab <- tibble(\n",
    "  x = seq(-1,1,0.02),\n",
    "  sin_test = sinpi(x)\n",
    ")\n",
    "\n",
    "sin_sequence <- sin_tab$sin_test"
   ]
  },
  {
   "cell_type": "code",
   "execution_count": null,
   "metadata": {},
   "outputs": [],
   "source": [
    "for(i in c(1: length(sin_sequence))){\n",
    "  # for loop once for each frame\n",
    "  \n",
    "  sin_val = sin_sequence[[i]]\n",
    "  \n",
    "  # The thresholds (vertical lines on normal curve) are defined here.\n",
    "  # They are shifted left and right by the sine wave value between -1 and 1 SD\n",
    "  \n",
    "  thresholds <- c(-1.5, -0.5, 0.5, 1.5)+ sin_sequence[i]\n",
    "  \n",
    "  \n",
    "  \n",
    "  # Here, the normal distribution is \"cut\" into the thresholds\n",
    "  bar_tab <- normal_dist_curve_tab %>% \n",
    "    mutate(\n",
    "      bar_z_cat = cut(z, c(-Inf, thresholds, Inf)),\n",
    "      bar_numeric_cat = as.integer(bar_z_cat)\n",
    "    )%>% \n",
    "    group_by(bar_numeric_cat) %>% \n",
    "    summarise(density = sum(norm_curve)/100,\n",
    "              mean_pos = mean(z))\n",
    "  \n",
    "  # Lower plot showing curve and thresholds\n",
    "  \n",
    "  curve_plot <-   normal_dist_curve_tab %>% \n",
    "    ggplot(aes(z, norm_curve))+\n",
    "    geom_area(fill=\"#FBEBC3\")+\n",
    "    geom_point(size=2, aes(color=z))+\n",
    "    geom_vline(xintercept = thresholds, size = 2, color = \"#ffffff\")+\n",
    "    geom_vline(xintercept = thresholds, size = 1, color = \"#497593\")+\n",
    "    geom_text(aes(x = mean_pos, y = -0.06, label = bar_numeric_cat), data = bar_tab,\n",
    "              size = 8, color = \"#497593\")+\n",
    "    scale_x_continuous(breaks = seq(-5,5, by = 0.5))+\n",
    "    scale_y_continuous(limits = c(-0.1,0.45))+\n",
    "    ggtitle(\"\\n\\n\")+\n",
    "    theme_void()+\n",
    "    theme(legend.position = \"none\")+\n",
    "    scale_colour_gradient2(low = \"#189B9C\", mid = \"#ACA972\", high = \"#E6AF02\")\n",
    "  \n",
    "  # Upper plot, showing bar chart\n",
    "  \n",
    "  bar_plot <- bar_tab %>% \n",
    "    ggplot(aes(bar_numeric_cat, density))+\n",
    "    geom_bar(stat=\"identity\", width = 0.5,\n",
    "             fill = \"#497593\")+\n",
    "    geom_text(aes(y = -0.05, label = bar_numeric_cat), \n",
    "              size = 8, color = \"#497593\")+\n",
    "    scale_x_continuous(limits = c(0,6))+\n",
    "    scale_y_continuous(limits = c(-0.08,0.4))+\n",
    "    #ggtitle(\"Observed Scores\")+\n",
    "    theme_void()\n",
    "  \n",
    "  \n",
    "  # Combining plots via patchwork package\n",
    "  bar_plot / curve_plot\n",
    "  \n",
    "  # Saving to image file\n",
    "  ggsave(file=paste0(\"frame_\",i,\".png\"), width=10, height=5, dpi=100, type = \"cairo\")\n",
    "  \n",
    "}"
   ]
  },
  {
   "cell_type": "code",
   "execution_count": null,
   "metadata": {},
   "outputs": [],
   "source": []
  }
 ],
 "metadata": {
  "kernelspec": {
   "display_name": "R",
   "language": "R",
   "name": "ir"
  },
  "language_info": {
   "codemirror_mode": "r",
   "file_extension": ".r",
   "mimetype": "text/x-r-source",
   "name": "R",
   "pygments_lexer": "r",
   "version": "3.6.3"
  }
 },
 "nbformat": 4,
 "nbformat_minor": 4
}
